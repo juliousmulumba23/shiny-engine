{
 "cells": [
  {
   "cell_type": "code",
   "execution_count": 2,
   "id": "8843804f-9fd9-46be-a463-537b47658678",
   "metadata": {},
   "outputs": [
    {
     "name": "stdout",
     "output_type": "stream",
     "text": [
      "hello world\n"
     ]
    }
   ],
   "source": [
    "print(\"hello world\")"
   ]
  },
  {
   "cell_type": "code",
   "execution_count": 9,
   "id": "29a43847-51dd-4c24-b575-df715793c1df",
   "metadata": {},
   "outputs": [],
   "source": [
    "import openai\n",
    "import os\n",
    "\n",
    "from dotenv import load_dotenv, find_dotenv\n",
    "_ = load_dotenv(find_dotenv())\n",
    "\n",
    "openai.api_key = os.getenv('OPENAI_API_KEY')\n",
    "\n",
    "client = openai.OpenAI()"
   ]
  },
  {
   "cell_type": "code",
   "execution_count": 10,
   "id": "ed3e6c8a-2d49-45ca-a327-89393c6bbe0b",
   "metadata": {},
   "outputs": [],
   "source": [
    "def get_completed(prompt, model=\"gpt-3.5-turbo\"):\n",
    "    messages = [{'role': 'user', 'content': prompt}]\n",
    "    response = client.chat.completions.create(\n",
    "        model=model,\n",
    "        messages=messages,\n",
    "        temperature=0,\n",
    "    )\n",
    "    return response.choices[0].message.content\n"
   ]
  },
  {
   "cell_type": "code",
   "execution_count": 11,
   "id": "6e543893-f674-42ac-8f4b-bdfa3420f216",
   "metadata": {},
   "outputs": [
    {
     "name": "stdout",
     "output_type": "stream",
     "text": [
      "<!DOCTYPE html>\n",
      "<html>\n",
      "<head>\n",
      "<title>Uganda</title>\n",
      "</head>\n",
      "<body>\n",
      "\n",
      "<h1>Uganda</h1>\n",
      "<p>Uganda is a country located in East Africa. It is known for its diverse wildlife, including the famous mountain gorillas in Bwindi Impenetrable National Park. The country also boasts stunning landscapes such as the Rwenzori Mountains and the source of the Nile River at Lake Victoria.</p>\n",
      "\n",
      "<p>Uganda has a rich cultural heritage with over 50 different tribes, each with its own traditions and languages. The capital city, Kampala, is a bustling metropolis with a vibrant nightlife and markets selling local crafts and produce.</p>\n",
      "\n",
      "<p>Despite its natural beauty and cultural richness, Uganda faces challenges such as poverty, political instability, and healthcare issues. However, the country is making strides towards development and has seen improvements in areas such as education and infrastructure.</p>\n",
      "\n",
      "<p>Overall, Uganda is a country with a lot to offer visitors, from its stunning landscapes to its warm and welcoming people.</p>\n",
      "\n",
      "</body>\n",
      "</html>\n"
     ]
    }
   ],
   "source": [
    "text = f\"\"\"\n",
    "Uganda.\n",
    "\"\"\"\n",
    "prompt = f\"\"\"\n",
    "write an article about the country mentioned in the text delimited by \\\n",
    "triple backticks.\n",
    "```{text}```\n",
    "summarize output to in HTML format.\n",
    "\"\"\"\n",
    "response = get_completed(prompt)\n",
    "print(response)"
   ]
  },
  {
   "cell_type": "code",
   "execution_count": 12,
   "id": "a0707d59-518f-4938-a40e-3003521dea90",
   "metadata": {},
   "outputs": [],
   "source": [
    "from IPython.core.display import HTML, JSON"
   ]
  },
  {
   "cell_type": "code",
   "execution_count": 13,
   "id": "7b4ef71d-1d47-4cd4-98a9-85081ebfca36",
   "metadata": {},
   "outputs": [
    {
     "data": {
      "text/html": [
       "<!DOCTYPE html>\n",
       "<html>\n",
       "<head>\n",
       "<title>Uganda</title>\n",
       "</head>\n",
       "<body>\n",
       "\n",
       "<h1>Uganda</h1>\n",
       "<p>Uganda is a country located in East Africa. It is known for its diverse wildlife, including the famous mountain gorillas in Bwindi Impenetrable National Park. The country also boasts stunning landscapes such as the Rwenzori Mountains and the source of the Nile River at Lake Victoria.</p>\n",
       "\n",
       "<p>Uganda has a rich cultural heritage with over 50 different tribes, each with its own traditions and languages. The capital city, Kampala, is a bustling metropolis with a vibrant nightlife and markets selling local crafts and produce.</p>\n",
       "\n",
       "<p>Despite its natural beauty and cultural richness, Uganda faces challenges such as poverty, political instability, and healthcare issues. However, the country is making strides towards development and has seen improvements in areas such as education and infrastructure.</p>\n",
       "\n",
       "<p>Overall, Uganda is a country with a lot to offer visitors, from its stunning landscapes to its warm and welcoming people.</p>\n",
       "\n",
       "</body>\n",
       "</html>"
      ],
      "text/plain": [
       "<IPython.core.display.HTML object>"
      ]
     },
     "metadata": {},
     "output_type": "display_data"
    }
   ],
   "source": [
    "display(HTML(response))"
   ]
  },
  {
   "cell_type": "code",
   "execution_count": 14,
   "id": "9ae0f2db-7ec6-4adb-80d0-5ede953b82e6",
   "metadata": {},
   "outputs": [
    {
     "name": "stderr",
     "output_type": "stream",
     "text": [
      "None of PyTorch, TensorFlow >= 2.0, or Flax have been found. Models won't be available and only tokenizers, configuration and file/data utilities can be used.\n"
     ]
    }
   ],
   "source": [
    "from transformers import GPT2Tokenizer\n",
    "import warnings\n",
    "\n",
    "# None of PyTorch, TensorFlow >= 2.0, or Flax have been found. Models won't be available and only tokenizers,\n",
    "# configuration and file/data utilities can be used.\n",
    "warnings.filterwarnings(\"ignore\", category=DeprecationWarning)\n",
    "\n",
    "tokenizer = GPT2Tokenizer.from_pretrained(\"gpt2\")\n",
    "\n",
    "# Input text\n",
    "text = response\n",
    "\n",
    "# Tokenize the text and count tokens\n",
    "tokens = tokenizer.encode(text)\n",
    "print(len(tokens))"
   ]
  },
  {
   "cell_type": "code",
   "execution_count": 15,
   "id": "61362194-ac86-4f86-9e46-87ec044f6636",
   "metadata": {},
   "outputs": [
    {
     "name": "stdout",
     "output_type": "stream",
     "text": [
      "257\n"
     ]
    }
   ],
   "source": [
    "tokenizer = GPT2Tokenizer.from_pretrained(\"gpt2\")\n",
    "\n",
    "# Input text\n",
    "text = response\n",
    "\n",
    "# Tokenize the text and count tokens\n",
    "tokens = tokenizer.encode(text)\n",
    "print(len(tokens))"
   ]
  },
  {
   "cell_type": "code",
   "execution_count": 22,
   "id": "01f85295-87d2-4717-beb8-955576890ff4",
   "metadata": {},
   "outputs": [],
   "source": [
    "import base64\n",
    "from openai import OpenAI\n",
    "\n",
    "client = OpenAI()\n",
    "\n",
    "def grab_audio():\n",
    "    completion = client.chat.completions.create(\n",
    "        model=\"gpt-4o-audio-preview\",\n",
    "        modalities=[\"text\", \"audio\"],\n",
    "        audio={\"voice\": \"shimmer\", \"format\": \"wav\"},\n",
    "        messages=[\n",
    "            {\n",
    "                \"role\": \"user\",\n",
    "                \"content\": \"Hey Julius, this is a perfect day to make some money\"\n",
    "            }\n",
    "        ]\n",
    "    )\n",
    "    \n",
    "    return completion.choices[0].message.audio.data\n",
    "\n",
    "wav_bytes = base64.b64decode(grab_audio())\n",
    "with open(\"promp.wav\", \"wb\") as f:\n",
    "    f.write(wav_bytes)"
   ]
  },
  {
   "cell_type": "code",
   "execution_count": 29,
   "id": "1b0828e7-9d74-4aa9-a06d-d474c6aed35b",
   "metadata": {},
   "outputs": [],
   "source": [
    "from pathlib import Path\n",
    "from openai import OpenAI\n",
    "import warnings\n",
    "\n",
    "# Ignore DeprecationWarning\n",
    "warnings.filterwarnings(\"ignore\", category=DeprecationWarning)\n",
    "\n",
    "client = OpenAI()\n",
    "speech_file_path = Path('C:/Users/ssekw/Documents/Jupyter Notebook/kikute.mp3')\n",
    "with client.audio.speech.with_streaming_response.create(\n",
    "    model=\"tts-1-hd\",\n",
    "    voice=\"alloy\",\n",
    "    input=\"Good morning Mr. JIMMY!. THIS IS A PERFECT DAY TO MAKE SOME MONEY!\",\n",
    ") as response:\n",
    "    response.stream_to_file(speech_file_path)"
   ]
  },
  {
   "cell_type": "code",
   "execution_count": null,
   "id": "92c36f6d-b09d-4e1b-a20c-112c679add46",
   "metadata": {
    "scrolled": true
   },
   "outputs": [],
   "source": [
    "from pathlib import Path\n",
    "from openai import OpenAI\n",
    "import os\n",
    "import warnings\n",
    "from dotenv import load_dotenv, find_dotenv\n",
    "\n",
    "load_dotenv(find_dotenv())\n",
    "\n",
    "openai.api_key = os.getenv('OPENAI_API_KEY')\n",
    "\n",
    "# Ignore DeprecationWarning\n",
    "warnings.filterwarnings(\"ignore\", category=DeprecationWarning)\n",
    "\n",
    "client = OpenAI()\n",
    "\n",
    "def generate_speech(speech_file_path, input_text, voice): \n",
    "    \"\"\" Generate speech using the TTS model and save to file.\n",
    "    Args: speech_file_path (str): Path to save the generated speech.\n",
    "    input_text (str): Text to synthesize into speech. \"\"\" \n",
    "    with client.audio.speech.with_streaming_response.create( \n",
    "        model=\"tts-1-hd-1106\", \n",
    "        voice=voice, \n",
    "        input=input_text, \n",
    "    ) as response: \n",
    "        response.stream_to_file(speech_file_path)\n",
    "\n",
    "speech_file_path = Path(\"C:/Users/ssekw/Documents/Jupyter Notebook/\" + input(\"Please Enter file_name: \") + \".mp3\")\n",
    "input_text = input(\"Please enter text to turn into speech: \")\n",
    "voice = input(\"Please choose desired voice from (alloy, ash, coral, echo, fable, onyx, nova, sage and shimmer): \")\n",
    "\n",
    "generate_speech(speech_file_path, input_text, voice)"
   ]
  },
  {
   "cell_type": "code",
   "execution_count": null,
   "id": "996390bc-72a3-4ae7-a850-88ab5cc06af3",
   "metadata": {},
   "outputs": [],
   "source": []
  }
 ],
 "metadata": {
  "kernelspec": {
   "display_name": "Python 3 (ipykernel)",
   "language": "python",
   "name": "python3"
  },
  "language_info": {
   "codemirror_mode": {
    "name": "ipython",
    "version": 3
   },
   "file_extension": ".py",
   "mimetype": "text/x-python",
   "name": "python",
   "nbconvert_exporter": "python",
   "pygments_lexer": "ipython3",
   "version": "3.13.1"
  }
 },
 "nbformat": 4,
 "nbformat_minor": 5
}
